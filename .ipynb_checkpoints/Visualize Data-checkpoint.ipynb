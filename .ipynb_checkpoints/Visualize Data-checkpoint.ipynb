{
 "cells": [
  {
   "cell_type": "code",
   "execution_count": 1,
   "metadata": {},
   "outputs": [],
   "source": [
    "import os\n",
    "import cv2\n",
    "import torch\n",
    "import random\n",
    "import logging\n",
    "import argparse\n",
    "import numpy as np\n",
    "from tqdm import tqdm\n",
    "import matplotlib.pyplot as plt\n",
    "from torchvision import transforms\n",
    "from arch.unet import UNet20, UNet256\n",
    "from torch.utils.data import Dataset, DataLoader\n",
    "%matplotlib inline"
   ]
  },
  {
   "cell_type": "code",
   "execution_count": null,
   "metadata": {},
   "outputs": [],
   "source": [
    "\n",
    "\n",
    "class ICVGIPDataset(Dataset):\n",
    "    def __init__(\n",
    "        self,\n",
    "        image_dir=\"data/leftImg8bit/train\",\n",
    "        labels_dir=\"data/gtFine/train\",\n",
    "        print_dataset=False,\n",
    "        input_img_size=(388, 388),\n",
    "        output_img_size=(388, 388),\n",
    "    ):\n",
    "        X = []\n",
    "        y = []\n",
    "        for root, directories, files in os.walk(image_dir, topdown=False):\n",
    "            for name in files:\n",
    "                print(name)\n",
    "                X.append(os.path.join(root, name))\n",
    "\n",
    "        for root, directories, files in os.walk(labels_dir, topdown=False):\n",
    "            for name in files:\n",
    "                # if \"_gtFine_labellevel3Ids.png\" in name:\n",
    "                if \"inst_label.png\" in name:\n",
    "                    y.append(os.path.join(root, name))\n",
    "        print(len(y))\n",
    "        print(len(X))\n",
    "        assert len(X) == len(y)\n",
    "        X.sort()\n",
    "        y.sort()\n",
    "        self.samples = list(zip(X, y))\n",
    "        del X, y\n",
    "        if print_dataset:\n",
    "            self.print_dataset()\n",
    "\n",
    "        self.input_img_size = input_img_size\n",
    "        self.output_img_size = output_img_size\n",
    "\n",
    "    def __len__(self):\n",
    "        return len(self.samples)\n",
    "\n",
    "    def print_dataset(self):\n",
    "        for X, y in self.samples:\n",
    "            print(X, y)\n",
    "\n",
    "    def __getitem__(self, index):\n",
    "        image_path, label_path = self.samples[index]\n",
    "        image = cv2.imread(image_path) / 255.0\n",
    "        image = cv2.resize(image, self.input_img_size, interpolation=cv2.INTER_NEAREST).reshape(3, self.input_img_size[0], self.input_img_size[1])\n",
    "        image = torch.Tensor(image)\n",
    "\n",
    "        labels = cv2.imread(label_path, cv2.IMREAD_GRAYSCALE)\n",
    "        labels = cv2.resize(labels, self.output_img_size, cv2.INTER_NEAREST)\n",
    "        labels[np.where(labels > 26)] = 26\n",
    "\n",
    "        labels = torch.Tensor(np.asarray(labels)).long()\n",
    "        image = self.transform(image)\n",
    "        return image, labels\n",
    "\n",
    "    def transform(self, image):\n",
    "        transform_ops = transforms.Compose(\n",
    "            [\n",
    "                # transforms.ToTensor(),\n",
    "                transforms.Normalize(\n",
    "                    mean=(0.485, 0.56, 0.406), std=(0.229, 0.224, 0.225)\n",
    "                ),\n",
    "            ]\n",
    "        )\n",
    "        return transform_ops(image)\n",
    "\n",
    "\n",
    "def get_dataloader(\n",
    "    image_dir=\"data/leftImg8bit/train\",\n",
    "    labels_dir=\"data/gtFine/train\",\n",
    "    print_dataset=False,\n",
    "    batch_size=8,\n",
    "    input_img_size=(388, 388),\n",
    "    output_img_size=(388, 388),\n",
    "):\n",
    "    dataset = ICVGIPDataset(\n",
    "        image_dir=image_dir,\n",
    "        labels_dir=labels_dir,\n",
    "        print_dataset=print_dataset,\n",
    "        input_img_size=input_img_size,\n",
    "        output_img_size=output_img_size,\n",
    "    )\n",
    "    dataloader = DataLoader(dataset, batch_size=batch_size)\n",
    "    return dataloader\n",
    "\n"
   ]
  },
  {
   "cell_type": "code",
   "execution_count": null,
   "metadata": {},
   "outputs": [],
   "source": []
  },
  {
   "cell_type": "code",
   "execution_count": null,
   "metadata": {},
   "outputs": [],
   "source": []
  },
  {
   "cell_type": "code",
   "execution_count": null,
   "metadata": {},
   "outputs": [],
   "source": []
  },
  {
   "cell_type": "code",
   "execution_count": null,
   "metadata": {},
   "outputs": [],
   "source": []
  },
  {
   "cell_type": "code",
   "execution_count": null,
   "metadata": {},
   "outputs": [],
   "source": [
    "device = \"cuda:0\" if torch.cuda.is_available() else \"cpu\"\n",
    "device = torch.device(device)"
   ]
  },
  {
   "cell_type": "code",
   "execution_count": null,
   "metadata": {},
   "outputs": [],
   "source": [
    "train_img_dir = \"data/leftImg8bit/train\"\n",
    "train_label_dir = \"data/gtFine/train\"\n",
    "num_classes = 27\n",
    "train_batch_size = 8\n",
    "epochs = 100\n",
    "lr = 1e-3"
   ]
  },
  {
   "cell_type": "code",
   "execution_count": null,
   "metadata": {},
   "outputs": [],
   "source": [
    "train_dataloader = get_dataloader(\n",
    "    image_dir=train_img_dir,\n",
    "    labels_dir=train_label_dir,\n",
    "    batch_size=train_batch_size,\n",
    "    print_dataset=True,\n",
    "    input_img_size=(256, 256),\n",
    "    output_img_size=(256, 256),\n",
    ")\n",
    "model = UNet256(num_classes=num_classes).to(device)"
   ]
  },
  {
   "cell_type": "code",
   "execution_count": null,
   "metadata": {},
   "outputs": [],
   "source": [
    "criterion = torch.nn.CrossEntropyLoss()\n",
    "optimizer = torch.optim.Adam(model.parameters(), lr=lr)\n",
    "scheduler = torch.optim.lr_scheduler.CosineAnnealingLR(optimizer, T_max = args.epochs, eta_min = 1e-6, last_epoch=-1, verbose=True)"
   ]
  },
  {
   "cell_type": "code",
   "execution_count": null,
   "metadata": {},
   "outputs": [],
   "source": [
    "step_losses = []\n",
    "epoch_losses = []\n",
    "\n",
    "for epoch in tqdm(range(epochs)):\n",
    "    epoch_loss = 0\n",
    "    for X, y in tqdm(train_dataloader):\n",
    "        optimizer.zero_grad()\n",
    "        output = model(X.to(device))\n",
    "        loss = criterion(output, y.to(device))\n",
    "        loss.backward()\n",
    "        optimizer.step()\n",
    "        epoch_loss += loss.item()\n",
    "        step_losses.append(loss.item())\n",
    "    scheduler.step()\n",
    "    epoch_loss = epoch_loss / len(train_dataloader)\n",
    "    logger.info(\"Average Loss: {}\".format(epoch_loss))\n",
    "    epoch_losses.append(epoch_loss)\n",
    "    torch.save(model, \"checkpoint_{}_{}_{}.pth\".format(args.model, epoch, identifier))\n",
    "fig, axes = plt.subplots(1, 2, figsize=(10, 5))\n",
    "axes[0].plot(step_losses)\n",
    "axes[1].plot(epoch_losses)\n",
    "plt.savefig(\"{}_{}_train_analysis.png\".format(args.model, identifier))"
   ]
  },
  {
   "cell_type": "code",
   "execution_count": null,
   "metadata": {},
   "outputs": [],
   "source": []
  },
  {
   "cell_type": "code",
   "execution_count": null,
   "metadata": {},
   "outputs": [],
   "source": []
  },
  {
   "cell_type": "code",
   "execution_count": null,
   "metadata": {},
   "outputs": [],
   "source": []
  },
  {
   "cell_type": "code",
   "execution_count": null,
   "metadata": {},
   "outputs": [],
   "source": []
  },
  {
   "cell_type": "code",
   "execution_count": null,
   "metadata": {},
   "outputs": [],
   "source": []
  },
  {
   "cell_type": "code",
   "execution_count": null,
   "metadata": {},
   "outputs": [],
   "source": []
  },
  {
   "cell_type": "code",
   "execution_count": null,
   "metadata": {},
   "outputs": [],
   "source": []
  },
  {
   "cell_type": "code",
   "execution_count": null,
   "metadata": {},
   "outputs": [],
   "source": []
  },
  {
   "cell_type": "code",
   "execution_count": null,
   "metadata": {},
   "outputs": [],
   "source": []
  },
  {
   "cell_type": "code",
   "execution_count": null,
   "metadata": {},
   "outputs": [],
   "source": []
  },
  {
   "cell_type": "code",
   "execution_count": null,
   "metadata": {},
   "outputs": [],
   "source": []
  },
  {
   "cell_type": "code",
   "execution_count": null,
   "metadata": {},
   "outputs": [],
   "source": []
  },
  {
   "cell_type": "code",
   "execution_count": null,
   "metadata": {},
   "outputs": [],
   "source": []
  }
 ],
 "metadata": {
  "kernelspec": {
   "display_name": "Python 3",
   "language": "python",
   "name": "python3"
  },
  "language_info": {
   "codemirror_mode": {
    "name": "ipython",
    "version": 3
   },
   "file_extension": ".py",
   "mimetype": "text/x-python",
   "name": "python",
   "nbconvert_exporter": "python",
   "pygments_lexer": "ipython3",
   "version": "3.7.9"
  }
 },
 "nbformat": 4,
 "nbformat_minor": 4
}
